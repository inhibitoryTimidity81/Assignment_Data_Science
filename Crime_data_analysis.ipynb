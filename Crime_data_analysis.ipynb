{
 "cells": [
  {
   "cell_type": "code",
   "execution_count": 1,
   "id": "9e6b9205-430a-4f5c-aaf5-55bf0f7e217d",
   "metadata": {},
   "outputs": [],
   "source": [
    "import pandas as pd"
   ]
  },
  {
   "cell_type": "code",
   "execution_count": 2,
   "id": "a5df3fa4-bd1b-44c7-8ead-509a5ad9cd16",
   "metadata": {},
   "outputs": [],
   "source": [
    "import numpy as np"
   ]
  },
  {
   "cell_type": "code",
   "execution_count": 3,
   "id": "35c243ce-acc3-430c-b7da-cbb77c67884b",
   "metadata": {},
   "outputs": [
    {
     "data": {
      "text/html": [
       "<div>\n",
       "<style scoped>\n",
       "    .dataframe tbody tr th:only-of-type {\n",
       "        vertical-align: middle;\n",
       "    }\n",
       "\n",
       "    .dataframe tbody tr th {\n",
       "        vertical-align: top;\n",
       "    }\n",
       "\n",
       "    .dataframe thead th {\n",
       "        text-align: right;\n",
       "    }\n",
       "</style>\n",
       "<table border=\"1\" class=\"dataframe\">\n",
       "  <thead>\n",
       "    <tr style=\"text-align: right;\">\n",
       "      <th></th>\n",
       "      <th>DR_NO</th>\n",
       "      <th>Date Rptd</th>\n",
       "      <th>DATE OCC</th>\n",
       "      <th>TIME OCC</th>\n",
       "      <th>AREA</th>\n",
       "      <th>AREA NAME</th>\n",
       "      <th>Rpt Dist No</th>\n",
       "      <th>Part 1-2</th>\n",
       "      <th>Crm Cd</th>\n",
       "      <th>Crm Cd Desc</th>\n",
       "      <th>...</th>\n",
       "      <th>Status</th>\n",
       "      <th>Status Desc</th>\n",
       "      <th>Crm Cd 1</th>\n",
       "      <th>Crm Cd 2</th>\n",
       "      <th>Crm Cd 3</th>\n",
       "      <th>Crm Cd 4</th>\n",
       "      <th>LOCATION</th>\n",
       "      <th>Cross Street</th>\n",
       "      <th>LAT</th>\n",
       "      <th>LON</th>\n",
       "    </tr>\n",
       "  </thead>\n",
       "  <tbody>\n",
       "    <tr>\n",
       "      <th>0</th>\n",
       "      <td>190326475</td>\n",
       "      <td>03/01/2020 12:00:00 AM</td>\n",
       "      <td>03/01/2020 12:00:00 AM</td>\n",
       "      <td>2130</td>\n",
       "      <td>7</td>\n",
       "      <td>Wilshire</td>\n",
       "      <td>784</td>\n",
       "      <td>1</td>\n",
       "      <td>510</td>\n",
       "      <td>VEHICLE - STOLEN</td>\n",
       "      <td>...</td>\n",
       "      <td>AA</td>\n",
       "      <td>Adult Arrest</td>\n",
       "      <td>510.0</td>\n",
       "      <td>998.0</td>\n",
       "      <td>NaN</td>\n",
       "      <td>NaN</td>\n",
       "      <td>1900 S  LONGWOOD                     AV</td>\n",
       "      <td>NaN</td>\n",
       "      <td>34.0375</td>\n",
       "      <td>-118.3506</td>\n",
       "    </tr>\n",
       "    <tr>\n",
       "      <th>1</th>\n",
       "      <td>200106753</td>\n",
       "      <td>02/09/2020 12:00:00 AM</td>\n",
       "      <td>02/08/2020 12:00:00 AM</td>\n",
       "      <td>1800</td>\n",
       "      <td>1</td>\n",
       "      <td>Central</td>\n",
       "      <td>182</td>\n",
       "      <td>1</td>\n",
       "      <td>330</td>\n",
       "      <td>BURGLARY FROM VEHICLE</td>\n",
       "      <td>...</td>\n",
       "      <td>IC</td>\n",
       "      <td>Invest Cont</td>\n",
       "      <td>330.0</td>\n",
       "      <td>998.0</td>\n",
       "      <td>NaN</td>\n",
       "      <td>NaN</td>\n",
       "      <td>1000 S  FLOWER                       ST</td>\n",
       "      <td>NaN</td>\n",
       "      <td>34.0444</td>\n",
       "      <td>-118.2628</td>\n",
       "    </tr>\n",
       "    <tr>\n",
       "      <th>2</th>\n",
       "      <td>200320258</td>\n",
       "      <td>11/11/2020 12:00:00 AM</td>\n",
       "      <td>11/04/2020 12:00:00 AM</td>\n",
       "      <td>1700</td>\n",
       "      <td>3</td>\n",
       "      <td>Southwest</td>\n",
       "      <td>356</td>\n",
       "      <td>1</td>\n",
       "      <td>480</td>\n",
       "      <td>BIKE - STOLEN</td>\n",
       "      <td>...</td>\n",
       "      <td>IC</td>\n",
       "      <td>Invest Cont</td>\n",
       "      <td>480.0</td>\n",
       "      <td>NaN</td>\n",
       "      <td>NaN</td>\n",
       "      <td>NaN</td>\n",
       "      <td>1400 W  37TH                         ST</td>\n",
       "      <td>NaN</td>\n",
       "      <td>34.0210</td>\n",
       "      <td>-118.3002</td>\n",
       "    </tr>\n",
       "    <tr>\n",
       "      <th>3</th>\n",
       "      <td>200907217</td>\n",
       "      <td>05/10/2023 12:00:00 AM</td>\n",
       "      <td>03/10/2020 12:00:00 AM</td>\n",
       "      <td>2037</td>\n",
       "      <td>9</td>\n",
       "      <td>Van Nuys</td>\n",
       "      <td>964</td>\n",
       "      <td>1</td>\n",
       "      <td>343</td>\n",
       "      <td>SHOPLIFTING-GRAND THEFT ($950.01 &amp; OVER)</td>\n",
       "      <td>...</td>\n",
       "      <td>IC</td>\n",
       "      <td>Invest Cont</td>\n",
       "      <td>343.0</td>\n",
       "      <td>NaN</td>\n",
       "      <td>NaN</td>\n",
       "      <td>NaN</td>\n",
       "      <td>14000    RIVERSIDE                    DR</td>\n",
       "      <td>NaN</td>\n",
       "      <td>34.1576</td>\n",
       "      <td>-118.4387</td>\n",
       "    </tr>\n",
       "    <tr>\n",
       "      <th>4</th>\n",
       "      <td>220614831</td>\n",
       "      <td>08/18/2022 12:00:00 AM</td>\n",
       "      <td>08/17/2020 12:00:00 AM</td>\n",
       "      <td>1200</td>\n",
       "      <td>6</td>\n",
       "      <td>Hollywood</td>\n",
       "      <td>666</td>\n",
       "      <td>2</td>\n",
       "      <td>354</td>\n",
       "      <td>THEFT OF IDENTITY</td>\n",
       "      <td>...</td>\n",
       "      <td>IC</td>\n",
       "      <td>Invest Cont</td>\n",
       "      <td>354.0</td>\n",
       "      <td>NaN</td>\n",
       "      <td>NaN</td>\n",
       "      <td>NaN</td>\n",
       "      <td>1900    TRANSIENT</td>\n",
       "      <td>NaN</td>\n",
       "      <td>34.0944</td>\n",
       "      <td>-118.3277</td>\n",
       "    </tr>\n",
       "  </tbody>\n",
       "</table>\n",
       "<p>5 rows × 28 columns</p>\n",
       "</div>"
      ],
      "text/plain": [
       "       DR_NO               Date Rptd                DATE OCC  TIME OCC  AREA  \\\n",
       "0  190326475  03/01/2020 12:00:00 AM  03/01/2020 12:00:00 AM      2130     7   \n",
       "1  200106753  02/09/2020 12:00:00 AM  02/08/2020 12:00:00 AM      1800     1   \n",
       "2  200320258  11/11/2020 12:00:00 AM  11/04/2020 12:00:00 AM      1700     3   \n",
       "3  200907217  05/10/2023 12:00:00 AM  03/10/2020 12:00:00 AM      2037     9   \n",
       "4  220614831  08/18/2022 12:00:00 AM  08/17/2020 12:00:00 AM      1200     6   \n",
       "\n",
       "   AREA NAME  Rpt Dist No  Part 1-2  Crm Cd  \\\n",
       "0   Wilshire          784         1     510   \n",
       "1    Central          182         1     330   \n",
       "2  Southwest          356         1     480   \n",
       "3   Van Nuys          964         1     343   \n",
       "4  Hollywood          666         2     354   \n",
       "\n",
       "                                Crm Cd Desc  ... Status   Status Desc  \\\n",
       "0                          VEHICLE - STOLEN  ...     AA  Adult Arrest   \n",
       "1                     BURGLARY FROM VEHICLE  ...     IC   Invest Cont   \n",
       "2                             BIKE - STOLEN  ...     IC   Invest Cont   \n",
       "3  SHOPLIFTING-GRAND THEFT ($950.01 & OVER)  ...     IC   Invest Cont   \n",
       "4                         THEFT OF IDENTITY  ...     IC   Invest Cont   \n",
       "\n",
       "  Crm Cd 1 Crm Cd 2  Crm Cd 3 Crm Cd 4  \\\n",
       "0    510.0    998.0       NaN      NaN   \n",
       "1    330.0    998.0       NaN      NaN   \n",
       "2    480.0      NaN       NaN      NaN   \n",
       "3    343.0      NaN       NaN      NaN   \n",
       "4    354.0      NaN       NaN      NaN   \n",
       "\n",
       "                                   LOCATION Cross Street      LAT       LON  \n",
       "0   1900 S  LONGWOOD                     AV          NaN  34.0375 -118.3506  \n",
       "1   1000 S  FLOWER                       ST          NaN  34.0444 -118.2628  \n",
       "2   1400 W  37TH                         ST          NaN  34.0210 -118.3002  \n",
       "3  14000    RIVERSIDE                    DR          NaN  34.1576 -118.4387  \n",
       "4                         1900    TRANSIENT          NaN  34.0944 -118.3277  \n",
       "\n",
       "[5 rows x 28 columns]"
      ]
     },
     "execution_count": 3,
     "metadata": {},
     "output_type": "execute_result"
    }
   ],
   "source": [
    "df=pd.read_csv('Crime_Data_from_2020_to_Present.csv')\n",
    "df.head()"
   ]
  },
  {
   "cell_type": "code",
   "execution_count": 4,
   "id": "c4b8f73a-c825-48e1-9378-8c1c43737f72",
   "metadata": {},
   "outputs": [
    {
     "data": {
      "text/plain": [
       "(955339, 28)"
      ]
     },
     "execution_count": 4,
     "metadata": {},
     "output_type": "execute_result"
    }
   ],
   "source": [
    "df.shape"
   ]
  },
  {
   "cell_type": "code",
   "execution_count": 5,
   "id": "b438741d-451b-4e9f-beed-75fc690682a2",
   "metadata": {},
   "outputs": [
    {
     "data": {
      "text/plain": [
       "DR_NO               int64\n",
       "Date Rptd          object\n",
       "DATE OCC           object\n",
       "TIME OCC            int64\n",
       "AREA                int64\n",
       "AREA NAME          object\n",
       "Rpt Dist No         int64\n",
       "Part 1-2            int64\n",
       "Crm Cd              int64\n",
       "Crm Cd Desc        object\n",
       "Mocodes            object\n",
       "Vict Age            int64\n",
       "Vict Sex           object\n",
       "Vict Descent       object\n",
       "Premis Cd         float64\n",
       "Premis Desc        object\n",
       "Weapon Used Cd    float64\n",
       "Weapon Desc        object\n",
       "Status             object\n",
       "Status Desc        object\n",
       "Crm Cd 1          float64\n",
       "Crm Cd 2          float64\n",
       "Crm Cd 3          float64\n",
       "Crm Cd 4          float64\n",
       "LOCATION           object\n",
       "Cross Street       object\n",
       "LAT               float64\n",
       "LON               float64\n",
       "dtype: object"
      ]
     },
     "execution_count": 5,
     "metadata": {},
     "output_type": "execute_result"
    }
   ],
   "source": [
    "df.dtypes"
   ]
  },
  {
   "cell_type": "code",
   "execution_count": 6,
   "id": "073bb9b2-8f26-4ac0-98c9-e9f377e6d799",
   "metadata": {},
   "outputs": [
    {
     "name": "stdout",
     "output_type": "stream",
     "text": [
      "15\n",
      "13\n"
     ]
    }
   ],
   "source": [
    "countNum=0\n",
    "countObj=0\n",
    "for cols in df.dtypes:\n",
    "    if(cols=='int64'or cols=='float64'):\n",
    "        countNum+=1\n",
    "    if(cols==object):\n",
    "        countObj+=1\n",
    "print(countNum)\n",
    "print(countObj)"
   ]
  },
  {
   "cell_type": "code",
   "execution_count": 7,
   "id": "b5d299ec-17b4-41c2-bea7-9a68fa0f4f2c",
   "metadata": {},
   "outputs": [],
   "source": [
    "# count_question_marks = (df.map(lambda x: x == '?')).sum().sum()\n",
    "# print(count_question_marks)\n",
    "# count_nan_values=(df.map(lambda x:x=='NaN')).sum().sum()\n",
    "# print(count_nan_values)\n",
    "# missing_data_counts=df.isnull().sum()\n",
    "# print(missing_data_counts)\n",
    "# missing_data=df.isnull()\n",
    "# for column in missing_data.columns.values.tolist():\n",
    "    # print(column)\n",
    "    # print(missing_data[column].value_counts())\n",
    "    # print(\" \")\n",
    "    # if(missing_data[column].any()):\n",
    "    #     print(column)\n",
    "    #     print(df[column].dtypes)"
   ]
  },
  {
   "cell_type": "code",
   "execution_count": 8,
   "id": "9c9b68b7-42b6-418b-8691-b1b6b97b31ba",
   "metadata": {},
   "outputs": [
    {
     "name": "stdout",
     "output_type": "stream",
     "text": [
      "DR_NO                  0\n",
      "Date Rptd              0\n",
      "DATE OCC               0\n",
      "TIME OCC               0\n",
      "AREA                   0\n",
      "AREA NAME              0\n",
      "Rpt Dist No            0\n",
      "Part 1-2               0\n",
      "Crm Cd                 0\n",
      "Crm Cd Desc            0\n",
      "Mocodes           136675\n",
      "Vict Age               0\n",
      "Vict Sex          130045\n",
      "Vict Descent      130055\n",
      "Premis Cd             12\n",
      "Premis Desc          569\n",
      "Weapon Used Cd    630320\n",
      "Weapon Desc       630320\n",
      "Status                 1\n",
      "Status Desc            0\n",
      "Crm Cd 1              11\n",
      "Crm Cd 2          886873\n",
      "Crm Cd 3          953045\n",
      "Crm Cd 4          955275\n",
      "LOCATION               0\n",
      "Cross Street      806439\n",
      "LAT                    0\n",
      "LON                    0\n",
      "dtype: int64\n"
     ]
    }
   ],
   "source": [
    "missing_data=df.isnull()\n",
    "missing_data_counts=missing_data.sum()\n",
    "print(missing_data_counts)"
   ]
  },
  {
   "cell_type": "code",
   "execution_count": 9,
   "id": "0aafeba7-f015-41df-b702-5200bbc4f629",
   "metadata": {},
   "outputs": [
    {
     "name": "stdout",
     "output_type": "stream",
     "text": [
      "Mocodes\n",
      "object\n",
      "Vict Sex\n",
      "object\n",
      "Vict Descent\n",
      "object\n",
      "Premis Cd\n",
      "float64\n",
      "Premis Desc\n",
      "object\n",
      "Weapon Used Cd\n",
      "float64\n",
      "Weapon Desc\n",
      "object\n",
      "Status\n",
      "object\n",
      "Crm Cd 1\n",
      "float64\n",
      "Crm Cd 2\n",
      "float64\n",
      "Crm Cd 3\n",
      "float64\n",
      "Crm Cd 4\n",
      "float64\n",
      "Cross Street\n",
      "object\n"
     ]
    }
   ],
   "source": [
    "\n",
    "for column in missing_data.columns.values.tolist():\n",
    "      if(missing_data[column].any()):\n",
    "        print(column)\n",
    "        print(df[column].dtypes)"
   ]
  },
  {
   "cell_type": "markdown",
   "id": "cee339bf-1f66-4166-8413-e4bba790dbeb",
   "metadata": {},
   "source": [
    "##next step\n",
    "Checking for column Mocodes."
   ]
  },
  {
   "cell_type": "code",
   "execution_count": 10,
   "id": "83221ad8-561a-49cc-bbe8-a1945c4adc2d",
   "metadata": {},
   "outputs": [
    {
     "data": {
      "text/plain": [
       "0                                    NaN\n",
       "1                         1822 1402 0344\n",
       "2                              0344 1251\n",
       "3                              0325 1501\n",
       "4                    1822 1501 0930 2004\n",
       "5                    1822 0100 0930 0929\n",
       "6                              0930 0929\n",
       "7                                   0100\n",
       "8                                   0100\n",
       "9                                   0416\n",
       "10                             1822 0930\n",
       "11         0913 2024 1817 0360 1258 0507\n",
       "12    1251 1258 0913 0400 0500 0522 1817\n",
       "13                                   NaN\n",
       "14         2000 1251 1259 0522 0507 0913\n",
       "15              0100 0928 0929 0935 1822\n",
       "16                             0928 1822\n",
       "17                                  0100\n",
       "18                             1309 0400\n",
       "19                        2041 1906 1822\n",
       "Name: Mocodes, dtype: object"
      ]
     },
     "execution_count": 10,
     "metadata": {},
     "output_type": "execute_result"
    }
   ],
   "source": [
    "df['Mocodes'].head(20)"
   ]
  },
  {
   "cell_type": "markdown",
   "id": "29d6e312-a8cf-4e5d-82bb-71b1894ef294",
   "metadata": {},
   "source": [
    "As the datatype of this column is object and there is no any \n",
    "specific term repeating or like that, so we have to simply drop\n",
    "the missing rows."
   ]
  },
  {
   "cell_type": "code",
   "execution_count": 11,
   "id": "b0f42b8c-6fe2-4cf1-85a6-36c36d22eb5d",
   "metadata": {},
   "outputs": [],
   "source": [
    "#dropping the missing rows of Mocodes column\n",
    "df.dropna(subset=['Mocodes'],axis=0,inplace=True)\n",
    "\n",
    "#reset index,because we dropped some rows\n",
    "df.reset_index(drop=True,inplace=True)"
   ]
  },
  {
   "cell_type": "markdown",
   "id": "64a73f69-56cd-4916-8c72-2a514ab7fb3a",
   "metadata": {},
   "source": [
    "checking for the column vict sex"
   ]
  },
  {
   "cell_type": "code",
   "execution_count": 12,
   "id": "d02cbb50-2d36-4b87-bcf2-75b31ba044df",
   "metadata": {},
   "outputs": [
    {
     "data": {
      "text/plain": [
       "0    M\n",
       "1    X\n",
       "2    M\n",
       "3    M\n",
       "4    M\n",
       "5    M\n",
       "6    F\n",
       "7    F\n",
       "8    M\n",
       "9    M\n",
       "Name: Vict Sex, dtype: object"
      ]
     },
     "execution_count": 12,
     "metadata": {},
     "output_type": "execute_result"
    }
   ],
   "source": [
    "df['Vict Sex'].head(10)"
   ]
  },
  {
   "cell_type": "markdown",
   "id": "1d4575e5-4d17-4a1f-87e9-6cca672c817c",
   "metadata": {},
   "source": [
    "We can replace the missing row in Vict sex as the mode of \n",
    "the column"
   ]
  },
  {
   "cell_type": "code",
   "execution_count": 13,
   "id": "a5057d58-690b-43cc-a271-8c0f562d784f",
   "metadata": {},
   "outputs": [
    {
     "name": "stdout",
     "output_type": "stream",
     "text": [
      "M\n"
     ]
    }
   ],
   "source": [
    "maxCount=df['Vict Sex'].value_counts().idxmax()\n",
    "print(maxCount)"
   ]
  },
  {
   "cell_type": "markdown",
   "id": "f8fce0fd-799f-4769-b1cd-33f721b6e19c",
   "metadata": {},
   "source": [
    "So Crime against Male is the max, so we will replace the missing\n",
    "rows with male"
   ]
  },
  {
   "cell_type": "code",
   "execution_count": 14,
   "id": "34921826-73c9-4a7f-b963-e4204aa66342",
   "metadata": {},
   "outputs": [],
   "source": [
    "df['Vict Sex']=df['Vict Sex'].replace(np.nan,\"M\")"
   ]
  },
  {
   "cell_type": "code",
   "execution_count": 15,
   "id": "4e75f2d6-acc3-4a2b-947d-0cd686a5bf15",
   "metadata": {},
   "outputs": [
    {
     "data": {
      "text/plain": [
       "0     False\n",
       "1     False\n",
       "2     False\n",
       "3     False\n",
       "4     False\n",
       "5     False\n",
       "6     False\n",
       "7     False\n",
       "8     False\n",
       "9     False\n",
       "10    False\n",
       "11    False\n",
       "12    False\n",
       "13     True\n",
       "14    False\n",
       "15    False\n",
       "16    False\n",
       "17    False\n",
       "18    False\n",
       "19    False\n",
       "20    False\n",
       "21    False\n",
       "22    False\n",
       "23    False\n",
       "24     True\n",
       "25    False\n",
       "26    False\n",
       "27     True\n",
       "28    False\n",
       "29    False\n",
       "Name: Vict Sex, dtype: bool"
      ]
     },
     "execution_count": 15,
     "metadata": {},
     "output_type": "execute_result"
    }
   ],
   "source": [
    "missing_data['Vict Sex'].head(30)"
   ]
  },
  {
   "cell_type": "markdown",
   "id": "c3cce166-9004-4c49-9f71-8198d10d3985",
   "metadata": {},
   "source": [
    "So Vict Sex column is handled successfully."
   ]
  },
  {
   "cell_type": "markdown",
   "id": "dbfe9e66-2b9e-47d7-9cbc-134b7910d4e8",
   "metadata": {},
   "source": [
    "Checking for Victim Descent"
   ]
  },
  {
   "cell_type": "code",
   "execution_count": 16,
   "id": "006cc182-776a-4549-aea3-8e25535d4984",
   "metadata": {},
   "outputs": [
    {
     "data": {
      "text/plain": [
       "Vict Descent\n",
       "H    285978\n",
       "W    190914\n",
       "B    131513\n",
       "X     97082\n",
       "O     74372\n",
       "A     20623\n",
       "K      5333\n",
       "F      4188\n",
       "C      3929\n",
       "J      1367\n",
       "V      1042\n",
       "I       918\n",
       "Z       490\n",
       "P       257\n",
       "U       174\n",
       "D        82\n",
       "G        67\n",
       "L        66\n",
       "S        51\n",
       "-         2\n",
       "Name: count, dtype: int64"
      ]
     },
     "execution_count": 16,
     "metadata": {},
     "output_type": "execute_result"
    }
   ],
   "source": [
    "df['Vict Descent'].value_counts()"
   ]
  },
  {
   "cell_type": "markdown",
   "id": "35ad0f4d-00ee-476c-b88a-2475891f84b0",
   "metadata": {},
   "source": [
    "We should replace the missing rows with H"
   ]
  },
  {
   "cell_type": "code",
   "execution_count": 17,
   "id": "733089f8-f8cb-4645-9739-f01d6b477f52",
   "metadata": {},
   "outputs": [],
   "source": [
    "df['Vict Descent']=df['Vict Descent'].replace(np.nan,\"H\")"
   ]
  },
  {
   "cell_type": "code",
   "execution_count": 18,
   "id": "139cd0ff-1dec-46b3-a721-639ed378c73a",
   "metadata": {},
   "outputs": [
    {
     "data": {
      "text/plain": [
       "0    False\n",
       "1    False\n",
       "2    False\n",
       "3    False\n",
       "4    False\n",
       "5    False\n",
       "6    False\n",
       "7    False\n",
       "8    False\n",
       "9    False\n",
       "Name: Vict Descent, dtype: bool"
      ]
     },
     "execution_count": 18,
     "metadata": {},
     "output_type": "execute_result"
    }
   ],
   "source": [
    "missing_data['Vict Descent'].head(10)"
   ]
  },
  {
   "cell_type": "markdown",
   "id": "ce1610d3-d0e4-4bee-8296-d3892c7b4001",
   "metadata": {},
   "source": [
    "Checking for Premis Cd"
   ]
  },
  {
   "cell_type": "code",
   "execution_count": 19,
   "id": "f7221f8f-55b2-472e-bed6-058d58cc3cc6",
   "metadata": {},
   "outputs": [
    {
     "data": {
      "text/plain": [
       "0    128.0\n",
       "1    502.0\n",
       "2    405.0\n",
       "3    102.0\n",
       "4    501.0\n",
       "Name: Premis Cd, dtype: float64"
      ]
     },
     "execution_count": 19,
     "metadata": {},
     "output_type": "execute_result"
    }
   ],
   "source": [
    "df['Premis Cd'].head()"
   ]
  },
  {
   "cell_type": "markdown",
   "id": "81bb790f-b723-4066-a9f2-489243767041",
   "metadata": {},
   "source": [
    "We should replace the missing rows with the mean"
   ]
  },
  {
   "cell_type": "code",
   "execution_count": 20,
   "id": "7103fb74-591f-437e-b68e-f353eeefab63",
   "metadata": {},
   "outputs": [],
   "source": [
    "Premis_Cd_mean=df['Premis Cd'].astype('float').mean(axis=0)\n",
    "df['Premis Cd']=df['Premis Cd'].replace(np.nan,Premis_Cd_mean)"
   ]
  },
  {
   "cell_type": "markdown",
   "id": "f0bea2b1-bb45-4619-8308-718388ab3cb5",
   "metadata": {},
   "source": [
    "Using same technique for other columns."
   ]
  },
  {
   "cell_type": "code",
   "execution_count": 21,
   "id": "a4a49b1e-25af-4c83-9952-957683d80ccc",
   "metadata": {},
   "outputs": [],
   "source": [
    "df.dropna(subset=['Premis Desc','Weapon Desc','Status','Cross Street'],axis=0,inplace=True)\n",
    "df.reset_index(drop=True,inplace=True)"
   ]
  },
  {
   "cell_type": "code",
   "execution_count": 22,
   "id": "d3ba08db-9979-41eb-a99f-995231f4b227",
   "metadata": {},
   "outputs": [],
   "source": [
    "Weapon_Used_Cd_mean=df['Weapon Used Cd'].astype('float').mean(axis=0)\n",
    "Crm_Cd_1_mean=df['Crm Cd 1'].astype('float').mean(axis=0)\n",
    "Crm_Cd_2_mean=df['Crm Cd 2'].astype('float').mean(axis=0)\n",
    "Crm_Cd_3_mean=df['Crm Cd 3'].astype('float').mean(axis=0)\n",
    "Crm_Cd_4_mean=df['Crm Cd 4'].astype('float').mean(axis=0)"
   ]
  },
  {
   "cell_type": "code",
   "execution_count": 53,
   "id": "cb4d547c-a8d1-4c8d-b7a9-7015363a1df7",
   "metadata": {},
   "outputs": [],
   "source": [
    "df.replace({'Weapon Used Cd':{Weapon_Used_Cd_mean}},inplace=True)\n",
    "# df.replace({'Crm Cd 1':{Crm_Cd_1_mean}},inplace=True)\n",
    "df['Crm Cd 1']=df['Crm Cd 1'].replace(np.nan,Crm_Cd_1_mean)\n",
    "df['Crm Cd 2']=df['Crm Cd 2'].replace(np.nan,Crm_Cd_2_mean)\n",
    "df['Crm Cd 3']=df['Crm Cd 3'].replace(np.nan,Crm_Cd_3_mean)\n",
    "df['Crm Cd 4']=df['Crm Cd 4'].replace(np.nan,Crm_Cd_4_mean)"
   ]
  },
  {
   "cell_type": "markdown",
   "id": "06fbe304-95eb-483e-b38a-fed558f09598",
   "metadata": {},
   "source": [
    "Now removing the duplicates"
   ]
  },
  {
   "cell_type": "code",
   "execution_count": 24,
   "id": "dd33c86e-a8fa-4d13-a1db-74659ac8dfce",
   "metadata": {},
   "outputs": [],
   "source": [
    "df.drop_duplicates(inplace=True)\n",
    "df.reset_index(drop=True,inplace=True)"
   ]
  },
  {
   "cell_type": "markdown",
   "id": "61137102-4573-43be-8cba-4d658b66697c",
   "metadata": {},
   "source": [
    "Graphs "
   ]
  },
  {
   "cell_type": "code",
   "execution_count": 25,
   "id": "1e05aa08-886c-4157-ac4d-3956257fc4bd",
   "metadata": {},
   "outputs": [],
   "source": [
    "import matplotlib.pyplot as plt\n",
    "import seaborn as sns\n",
    "%matplotlib inline"
   ]
  },
  {
   "cell_type": "code",
   "execution_count": 26,
   "id": "6c967fc0-85a1-4b3e-a637-e1e87d4270cd",
   "metadata": {},
   "outputs": [
    {
     "data": {
      "text/html": [
       "<div>\n",
       "<style scoped>\n",
       "    .dataframe tbody tr th:only-of-type {\n",
       "        vertical-align: middle;\n",
       "    }\n",
       "\n",
       "    .dataframe tbody tr th {\n",
       "        vertical-align: top;\n",
       "    }\n",
       "\n",
       "    .dataframe thead th {\n",
       "        text-align: right;\n",
       "    }\n",
       "</style>\n",
       "<table border=\"1\" class=\"dataframe\">\n",
       "  <thead>\n",
       "    <tr style=\"text-align: right;\">\n",
       "      <th></th>\n",
       "      <th>DR_NO</th>\n",
       "      <th>Date Rptd</th>\n",
       "      <th>DATE OCC</th>\n",
       "      <th>TIME OCC</th>\n",
       "      <th>AREA</th>\n",
       "      <th>AREA NAME</th>\n",
       "      <th>Rpt Dist No</th>\n",
       "      <th>Part 1-2</th>\n",
       "      <th>Crm Cd</th>\n",
       "      <th>Crm Cd Desc</th>\n",
       "      <th>...</th>\n",
       "      <th>Status</th>\n",
       "      <th>Status Desc</th>\n",
       "      <th>Crm Cd 1</th>\n",
       "      <th>Crm Cd 2</th>\n",
       "      <th>Crm Cd 3</th>\n",
       "      <th>Crm Cd 4</th>\n",
       "      <th>LOCATION</th>\n",
       "      <th>Cross Street</th>\n",
       "      <th>LAT</th>\n",
       "      <th>LON</th>\n",
       "    </tr>\n",
       "  </thead>\n",
       "  <tbody>\n",
       "    <tr>\n",
       "      <th>0</th>\n",
       "      <td>220313293</td>\n",
       "      <td>07/06/2022 12:00:00 AM</td>\n",
       "      <td>06/30/2020 12:00:00 AM</td>\n",
       "      <td>1400</td>\n",
       "      <td>3</td>\n",
       "      <td>Southwest</td>\n",
       "      <td>396</td>\n",
       "      <td>2</td>\n",
       "      <td>626</td>\n",
       "      <td>INTIMATE PARTNER - SIMPLE ASSAULT</td>\n",
       "      <td>...</td>\n",
       "      <td>IC</td>\n",
       "      <td>Invest Cont</td>\n",
       "      <td>626.0</td>\n",
       "      <td>NaN</td>\n",
       "      <td>NaN</td>\n",
       "      <td>NaN</td>\n",
       "      <td>VERMONT                      AV</td>\n",
       "      <td>43RD                         ST</td>\n",
       "      <td>34.0055</td>\n",
       "      <td>-118.2915</td>\n",
       "    </tr>\n",
       "    <tr>\n",
       "      <th>1</th>\n",
       "      <td>221016479</td>\n",
       "      <td>11/14/2022 12:00:00 AM</td>\n",
       "      <td>07/24/2020 12:00:00 AM</td>\n",
       "      <td>1500</td>\n",
       "      <td>10</td>\n",
       "      <td>West Valley</td>\n",
       "      <td>1017</td>\n",
       "      <td>1</td>\n",
       "      <td>761</td>\n",
       "      <td>BRANDISH WEAPON</td>\n",
       "      <td>...</td>\n",
       "      <td>IC</td>\n",
       "      <td>Invest Cont</td>\n",
       "      <td>761.0</td>\n",
       "      <td>NaN</td>\n",
       "      <td>NaN</td>\n",
       "      <td>NaN</td>\n",
       "      <td>SHERMAN                      WY</td>\n",
       "      <td>ENCINO</td>\n",
       "      <td>34.2012</td>\n",
       "      <td>-118.5133</td>\n",
       "    </tr>\n",
       "    <tr>\n",
       "      <th>2</th>\n",
       "      <td>221011289</td>\n",
       "      <td>07/05/2022 12:00:00 AM</td>\n",
       "      <td>03/01/2020 12:00:00 AM</td>\n",
       "      <td>1200</td>\n",
       "      <td>10</td>\n",
       "      <td>West Valley</td>\n",
       "      <td>1001</td>\n",
       "      <td>2</td>\n",
       "      <td>626</td>\n",
       "      <td>INTIMATE PARTNER - SIMPLE ASSAULT</td>\n",
       "      <td>...</td>\n",
       "      <td>AA</td>\n",
       "      <td>Adult Arrest</td>\n",
       "      <td>626.0</td>\n",
       "      <td>NaN</td>\n",
       "      <td>NaN</td>\n",
       "      <td>NaN</td>\n",
       "      <td>SHIRLEY</td>\n",
       "      <td>ROSCOE                       BL</td>\n",
       "      <td>34.2204</td>\n",
       "      <td>-118.5579</td>\n",
       "    </tr>\n",
       "    <tr>\n",
       "      <th>3</th>\n",
       "      <td>231305562</td>\n",
       "      <td>02/01/2023 12:00:00 AM</td>\n",
       "      <td>04/01/2020 12:00:00 AM</td>\n",
       "      <td>2300</td>\n",
       "      <td>13</td>\n",
       "      <td>Newton</td>\n",
       "      <td>1303</td>\n",
       "      <td>1</td>\n",
       "      <td>210</td>\n",
       "      <td>ROBBERY</td>\n",
       "      <td>...</td>\n",
       "      <td>IC</td>\n",
       "      <td>Invest Cont</td>\n",
       "      <td>210.0</td>\n",
       "      <td>NaN</td>\n",
       "      <td>NaN</td>\n",
       "      <td>NaN</td>\n",
       "      <td>12TH                         ST</td>\n",
       "      <td>SAN PEDRO                    ST</td>\n",
       "      <td>34.0337</td>\n",
       "      <td>-118.2533</td>\n",
       "    </tr>\n",
       "    <tr>\n",
       "      <th>4</th>\n",
       "      <td>220606971</td>\n",
       "      <td>03/05/2022 12:00:00 AM</td>\n",
       "      <td>07/02/2020 12:00:00 AM</td>\n",
       "      <td>940</td>\n",
       "      <td>6</td>\n",
       "      <td>Hollywood</td>\n",
       "      <td>636</td>\n",
       "      <td>1</td>\n",
       "      <td>230</td>\n",
       "      <td>ASSAULT WITH DEADLY WEAPON, AGGRAVATED ASSAULT</td>\n",
       "      <td>...</td>\n",
       "      <td>AO</td>\n",
       "      <td>Adult Other</td>\n",
       "      <td>230.0</td>\n",
       "      <td>NaN</td>\n",
       "      <td>NaN</td>\n",
       "      <td>NaN</td>\n",
       "      <td>YUCCA                        ST</td>\n",
       "      <td>HIGHLAND                     AV</td>\n",
       "      <td>34.1032</td>\n",
       "      <td>-118.3387</td>\n",
       "    </tr>\n",
       "  </tbody>\n",
       "</table>\n",
       "<p>5 rows × 28 columns</p>\n",
       "</div>"
      ],
      "text/plain": [
       "       DR_NO               Date Rptd                DATE OCC  TIME OCC  AREA  \\\n",
       "0  220313293  07/06/2022 12:00:00 AM  06/30/2020 12:00:00 AM      1400     3   \n",
       "1  221016479  11/14/2022 12:00:00 AM  07/24/2020 12:00:00 AM      1500    10   \n",
       "2  221011289  07/05/2022 12:00:00 AM  03/01/2020 12:00:00 AM      1200    10   \n",
       "3  231305562  02/01/2023 12:00:00 AM  04/01/2020 12:00:00 AM      2300    13   \n",
       "4  220606971  03/05/2022 12:00:00 AM  07/02/2020 12:00:00 AM       940     6   \n",
       "\n",
       "     AREA NAME  Rpt Dist No  Part 1-2  Crm Cd  \\\n",
       "0    Southwest          396         2     626   \n",
       "1  West Valley         1017         1     761   \n",
       "2  West Valley         1001         2     626   \n",
       "3       Newton         1303         1     210   \n",
       "4    Hollywood          636         1     230   \n",
       "\n",
       "                                      Crm Cd Desc  ... Status   Status Desc  \\\n",
       "0               INTIMATE PARTNER - SIMPLE ASSAULT  ...     IC   Invest Cont   \n",
       "1                                 BRANDISH WEAPON  ...     IC   Invest Cont   \n",
       "2               INTIMATE PARTNER - SIMPLE ASSAULT  ...     AA  Adult Arrest   \n",
       "3                                         ROBBERY  ...     IC   Invest Cont   \n",
       "4  ASSAULT WITH DEADLY WEAPON, AGGRAVATED ASSAULT  ...     AO   Adult Other   \n",
       "\n",
       "  Crm Cd 1 Crm Cd 2  Crm Cd 3 Crm Cd 4                         LOCATION  \\\n",
       "0    626.0      NaN       NaN      NaN  VERMONT                      AV   \n",
       "1    761.0      NaN       NaN      NaN  SHERMAN                      WY   \n",
       "2    626.0      NaN       NaN      NaN                          SHIRLEY   \n",
       "3    210.0      NaN       NaN      NaN  12TH                         ST   \n",
       "4    230.0      NaN       NaN      NaN  YUCCA                        ST   \n",
       "\n",
       "                      Cross Street      LAT       LON  \n",
       "0  43RD                         ST  34.0055 -118.2915  \n",
       "1                           ENCINO  34.2012 -118.5133  \n",
       "2  ROSCOE                       BL  34.2204 -118.5579  \n",
       "3  SAN PEDRO                    ST  34.0337 -118.2533  \n",
       "4  HIGHLAND                     AV  34.1032 -118.3387  \n",
       "\n",
       "[5 rows x 28 columns]"
      ]
     },
     "execution_count": 26,
     "metadata": {},
     "output_type": "execute_result"
    }
   ],
   "source": [
    "df.head()"
   ]
  },
  {
   "cell_type": "markdown",
   "id": "beda6aef-0bd3-4326-ac54-3483a22de706",
   "metadata": {},
   "source": [
    "For Numerical variable regression plot is best for analysis"
   ]
  },
  {
   "cell_type": "code",
   "execution_count": 27,
   "id": "c777c465-6fce-43b1-83af-9018748621a9",
   "metadata": {},
   "outputs": [
    {
     "data": {
      "text/plain": [
       "(0.0, 2476.9)"
      ]
     },
     "execution_count": 27,
     "metadata": {},
     "output_type": "execute_result"
    },
    {
     "data": {
      "image/png": "[encoded data removed]",
      "text/plain": [
       "<Figure size 640x480 with 1 Axes>"
      ]
     },
     "metadata": {},
     "output_type": "display_data"
    }
   ],
   "source": [
    "#regression plot between DR_NO and time_occ\n",
    "sns.regplot(x=\"DR_NO\",y=\"TIME OCC\",data=df)\n",
    "plt.ylim(0,)"
   ]
  },
  {
   "cell_type": "markdown",
   "id": "35adec6a-8efa-4774-ba0e-088fc9b60c33",
   "metadata": {},
   "source": [
    "The regression plot shows almost no dependence between both\n",
    "the variables."
   ]
  },
  {
   "cell_type": "code",
   "execution_count": 28,
   "id": "5ed9c2ab-b08b-4107-8b84-9b64f81502f7",
   "metadata": {},
   "outputs": [
    {
     "data": {
      "text/plain": [
       "(0.0, 104.05)"
      ]
     },
     "execution_count": 28,
     "metadata": {},
     "output_type": "execute_result"
    },
    {
     "data": {
      "image/png": "[encoded data removed]",
      "text/plain": [
       "<Figure size 640x480 with 1 Axes>"
      ]
     },
     "metadata": {},
     "output_type": "display_data"
    }
   ],
   "source": [
    "#regression plot between area and victim age\n",
    "sns.regplot(x=\"AREA\",y=\"Vict Age\",data=df)\n",
    "plt.ylim(0,)"
   ]
  },
  {
   "cell_type": "markdown",
   "id": "304e8870-d428-4955-9ac1-130a2d3ae5c5",
   "metadata": {},
   "source": [
    "This shows a weak negative linear relationship between area and \n",
    "the age of victim."
   ]
  },
  {
   "cell_type": "code",
   "execution_count": 29,
   "id": "febfb909-d3ea-4c6a-b39f-e77b2ff64b40",
   "metadata": {},
   "outputs": [
    {
     "data": {
      "image/png": "[encoded data removed]",
      "text/plain": [
       "<Figure size 640x480 with 1 Axes>"
      ]
     },
     "metadata": {},
     "output_type": "display_data"
    }
   ],
   "source": [
    "#a boxplot between area and rept dist. no\n",
    "sns.boxplot(x='AREA',y='Rpt Dist No',data=df)\n",
    "plt.show()"
   ]
  },
  {
   "cell_type": "code",
   "execution_count": 30,
   "id": "d42e80be-95ab-488e-8a7b-8d927f2578fe",
   "metadata": {},
   "outputs": [
    {
     "name": "stderr",
     "output_type": "stream",
     "text": [
      "C:\\Users\\akash\\AppData\\Local\\Temp\\ipykernel_23436\\1938872051.py:2: UserWarning: \n",
      "\n",
      "`distplot` is a deprecated function and will be removed in seaborn v0.14.0.\n",
      "\n",
      "Please adapt your code to use either `displot` (a figure-level function with\n",
      "similar flexibility) or `histplot` (an axes-level function for histograms).\n",
      "\n",
      "For a guide to updating your code to use the new functions, please see\n",
      "https://gist.github.com/mwaskom/de44147ed2974457ad6372750bbe5751\n",
      "\n",
      "  sns.distplot(df['Vict Age'], hist=True)\n"
     ]
    },
    {
     "data": {
      "text/plain": [
       "<Axes: xlabel='Vict Age', ylabel='Density'>"
      ]
     },
     "execution_count": 30,
     "metadata": {},
     "output_type": "execute_result"
    },
    {
     "data": {
      "image/png": "[encoded data removed]",
      "text/plain": [
       "<Figure size 640x480 with 1 Axes>"
      ]
     },
     "metadata": {},
     "output_type": "display_data"
    }
   ],
   "source": [
    "#kde plot for age\n",
    "sns.distplot(df['Vict Age'], hist=True)"
   ]
  },
  {
   "cell_type": "markdown",
   "id": "65431ac5-7e13-4729-ae80-61abaf365ee4",
   "metadata": {},
   "source": [
    "Near about the 30 years the probabilty of finding a victim is Max."
   ]
  },
  {
   "cell_type": "code",
   "execution_count": 31,
   "id": "43b52288-9ebf-4b9e-8761-87000933110e",
   "metadata": {},
   "outputs": [
    {
     "data": {
      "text/plain": [
       "<Axes: xlabel='Vict Age', ylabel='Count'>"
      ]
     },
     "execution_count": 31,
     "metadata": {},
     "output_type": "execute_result"
    },
    {
     "data": {
      "image/png": "[encoded data removed]",
      "text/plain": [
       "<Figure size 640x480 with 1 Axes>"
      ]
     },
     "metadata": {},
     "output_type": "display_data"
    }
   ],
   "source": [
    "sns.histplot(df['Vict Age'], kde=True)"
   ]
  },
  {
   "cell_type": "code",
   "execution_count": 42,
   "id": "4cd6c7eb-c481-4db2-8940-7793ac917ef4",
   "metadata": {},
   "outputs": [
    {
     "data": {
      "image/png": "[encoded data removed]",
      "text/plain": [
       "<Figure size 640x480 with 2 Axes>"
      ]
     },
     "metadata": {},
     "output_type": "display_data"
    }
   ],
   "source": [
    "#heatmap for different numerical variables\n",
    "numeric_cols = df.select_dtypes(include=['int64', 'float64'])\n",
    "corr_matrix=numeric_cols.corr()\n",
    "sns.heatmap(corr_matrix, annot=False, cmap='viridis')\n",
    "plt.title('Correlation Heatmap of Numerical Variables')\n",
    "plt.show()"
   ]
  },
  {
   "cell_type": "code",
   "execution_count": 40,
   "id": "7aa4f1ea-9fcb-421c-9780-2c74d564e37f",
   "metadata": {},
   "outputs": [
    {
     "data": {
      "image/png": "[encoded data removed]",
      "text/plain": [
       "<Figure size 640x480 with 1 Axes>"
      ]
     },
     "metadata": {},
     "output_type": "display_data"
    }
   ],
   "source": [
    "#bar graph of gender of victim\n",
    "counts=df['Vict Sex'].value_counts()\n",
    "plt.bar(counts.index, counts.values)\n",
    "plt.xlabel('Vict Sex')\n",
    "plt.ylabel('Count')\n",
    "plt.title('Distribution of Vict Sex')\n",
    "plt.show()"
   ]
  },
  {
   "cell_type": "code",
   "execution_count": 43,
   "id": "72682b85-2985-4f1c-97d4-72a3a3238f4e",
   "metadata": {},
   "outputs": [
    {
     "data": {
      "text/plain": [
       "<Axes: xlabel='Vict Descent', ylabel='Count'>"
      ]
     },
     "execution_count": 43,
     "metadata": {},
     "output_type": "execute_result"
    },
    {
     "data": {
      "image/png": "[encoded data removed]",
      "text/plain": [
       "<Figure size 640x480 with 1 Axes>"
      ]
     },
     "metadata": {},
     "output_type": "display_data"
    }
   ],
   "source": [
    "sns.histplot(df['Vict Descent'],kde=True)"
   ]
  },
  {
   "cell_type": "code",
   "execution_count": 44,
   "id": "93c1da02-ac1c-4e9e-b201-21db37e021c6",
   "metadata": {},
   "outputs": [
    {
     "data": {
      "text/html": [
       "<div>\n",
       "<style scoped>\n",
       "    .dataframe tbody tr th:only-of-type {\n",
       "        vertical-align: middle;\n",
       "    }\n",
       "\n",
       "    .dataframe tbody tr th {\n",
       "        vertical-align: top;\n",
       "    }\n",
       "\n",
       "    .dataframe thead th {\n",
       "        text-align: right;\n",
       "    }\n",
       "</style>\n",
       "<table border=\"1\" class=\"dataframe\">\n",
       "  <thead>\n",
       "    <tr style=\"text-align: right;\">\n",
       "      <th></th>\n",
       "      <th>DR_NO</th>\n",
       "      <th>TIME OCC</th>\n",
       "      <th>AREA</th>\n",
       "      <th>Rpt Dist No</th>\n",
       "      <th>Part 1-2</th>\n",
       "      <th>Crm Cd</th>\n",
       "      <th>Vict Age</th>\n",
       "      <th>Premis Cd</th>\n",
       "      <th>Weapon Used Cd</th>\n",
       "      <th>Crm Cd 1</th>\n",
       "      <th>Crm Cd 2</th>\n",
       "      <th>Crm Cd 3</th>\n",
       "      <th>Crm Cd 4</th>\n",
       "      <th>LAT</th>\n",
       "      <th>LON</th>\n",
       "    </tr>\n",
       "  </thead>\n",
       "  <tbody>\n",
       "    <tr>\n",
       "      <th>DR_NO</th>\n",
       "      <td>1.000000</td>\n",
       "      <td>-0.005225</td>\n",
       "      <td>0.063594</td>\n",
       "      <td>0.064139</td>\n",
       "      <td>0.011627</td>\n",
       "      <td>0.011049</td>\n",
       "      <td>-0.003657</td>\n",
       "      <td>0.029302</td>\n",
       "      <td>-0.004196</td>\n",
       "      <td>0.011083</td>\n",
       "      <td>0.013518</td>\n",
       "      <td>-0.054127</td>\n",
       "      <td>NaN</td>\n",
       "      <td>0.042019</td>\n",
       "      <td>-0.041063</td>\n",
       "    </tr>\n",
       "    <tr>\n",
       "      <th>TIME OCC</th>\n",
       "      <td>-0.005225</td>\n",
       "      <td>1.000000</td>\n",
       "      <td>0.016837</td>\n",
       "      <td>0.016929</td>\n",
       "      <td>0.020045</td>\n",
       "      <td>0.018279</td>\n",
       "      <td>-0.029279</td>\n",
       "      <td>0.002456</td>\n",
       "      <td>0.003121</td>\n",
       "      <td>0.018385</td>\n",
       "      <td>-0.002013</td>\n",
       "      <td>0.021429</td>\n",
       "      <td>NaN</td>\n",
       "      <td>0.002944</td>\n",
       "      <td>-0.003075</td>\n",
       "    </tr>\n",
       "    <tr>\n",
       "      <th>AREA</th>\n",
       "      <td>0.063594</td>\n",
       "      <td>0.016837</td>\n",
       "      <td>1.000000</td>\n",
       "      <td>0.999195</td>\n",
       "      <td>-0.015521</td>\n",
       "      <td>-0.019574</td>\n",
       "      <td>-0.042716</td>\n",
       "      <td>-0.022195</td>\n",
       "      <td>-0.057376</td>\n",
       "      <td>-0.019971</td>\n",
       "      <td>-0.046877</td>\n",
       "      <td>-0.011847</td>\n",
       "      <td>NaN</td>\n",
       "      <td>0.020116</td>\n",
       "      <td>-0.015677</td>\n",
       "    </tr>\n",
       "    <tr>\n",
       "      <th>Rpt Dist No</th>\n",
       "      <td>0.064139</td>\n",
       "      <td>0.016929</td>\n",
       "      <td>0.999195</td>\n",
       "      <td>1.000000</td>\n",
       "      <td>-0.015376</td>\n",
       "      <td>-0.019575</td>\n",
       "      <td>-0.042679</td>\n",
       "      <td>-0.022128</td>\n",
       "      <td>-0.057118</td>\n",
       "      <td>-0.019974</td>\n",
       "      <td>-0.047327</td>\n",
       "      <td>-0.010730</td>\n",
       "      <td>NaN</td>\n",
       "      <td>0.020134</td>\n",
       "      <td>-0.015735</td>\n",
       "    </tr>\n",
       "    <tr>\n",
       "      <th>Part 1-2</th>\n",
       "      <td>0.011627</td>\n",
       "      <td>0.020045</td>\n",
       "      <td>-0.015521</td>\n",
       "      <td>-0.015376</td>\n",
       "      <td>1.000000</td>\n",
       "      <td>0.811966</td>\n",
       "      <td>-0.040393</td>\n",
       "      <td>0.090889</td>\n",
       "      <td>0.439597</td>\n",
       "      <td>0.813324</td>\n",
       "      <td>0.039612</td>\n",
       "      <td>-0.069057</td>\n",
       "      <td>NaN</td>\n",
       "      <td>-0.042725</td>\n",
       "      <td>0.044558</td>\n",
       "    </tr>\n",
       "    <tr>\n",
       "      <th>Crm Cd</th>\n",
       "      <td>0.011049</td>\n",
       "      <td>0.018279</td>\n",
       "      <td>-0.019574</td>\n",
       "      <td>-0.019575</td>\n",
       "      <td>0.811966</td>\n",
       "      <td>1.000000</td>\n",
       "      <td>-0.033501</td>\n",
       "      <td>0.081491</td>\n",
       "      <td>0.337796</td>\n",
       "      <td>0.998536</td>\n",
       "      <td>-0.031566</td>\n",
       "      <td>0.056596</td>\n",
       "      <td>NaN</td>\n",
       "      <td>-0.039502</td>\n",
       "      <td>0.041528</td>\n",
       "    </tr>\n",
       "    <tr>\n",
       "      <th>Vict Age</th>\n",
       "      <td>-0.003657</td>\n",
       "      <td>-0.029279</td>\n",
       "      <td>-0.042716</td>\n",
       "      <td>-0.042679</td>\n",
       "      <td>-0.040393</td>\n",
       "      <td>-0.033501</td>\n",
       "      <td>1.000000</td>\n",
       "      <td>0.018495</td>\n",
       "      <td>0.108694</td>\n",
       "      <td>-0.032272</td>\n",
       "      <td>-0.036433</td>\n",
       "      <td>-0.069802</td>\n",
       "      <td>NaN</td>\n",
       "      <td>0.007631</td>\n",
       "      <td>-0.006857</td>\n",
       "    </tr>\n",
       "    <tr>\n",
       "      <th>Premis Cd</th>\n",
       "      <td>0.029302</td>\n",
       "      <td>0.002456</td>\n",
       "      <td>-0.022195</td>\n",
       "      <td>-0.022128</td>\n",
       "      <td>0.090889</td>\n",
       "      <td>0.081491</td>\n",
       "      <td>0.018495</td>\n",
       "      <td>1.000000</td>\n",
       "      <td>0.112730</td>\n",
       "      <td>0.082031</td>\n",
       "      <td>0.007235</td>\n",
       "      <td>0.037662</td>\n",
       "      <td>NaN</td>\n",
       "      <td>-0.005044</td>\n",
       "      <td>0.005909</td>\n",
       "    </tr>\n",
       "    <tr>\n",
       "      <th>Weapon Used Cd</th>\n",
       "      <td>-0.004196</td>\n",
       "      <td>0.003121</td>\n",
       "      <td>-0.057376</td>\n",
       "      <td>-0.057118</td>\n",
       "      <td>0.439597</td>\n",
       "      <td>0.337796</td>\n",
       "      <td>0.108694</td>\n",
       "      <td>0.112730</td>\n",
       "      <td>1.000000</td>\n",
       "      <td>0.338517</td>\n",
       "      <td>-0.116993</td>\n",
       "      <td>-0.028806</td>\n",
       "      <td>NaN</td>\n",
       "      <td>-0.017883</td>\n",
       "      <td>0.020564</td>\n",
       "    </tr>\n",
       "    <tr>\n",
       "      <th>Crm Cd 1</th>\n",
       "      <td>0.011083</td>\n",
       "      <td>0.018385</td>\n",
       "      <td>-0.019971</td>\n",
       "      <td>-0.019974</td>\n",
       "      <td>0.813324</td>\n",
       "      <td>0.998536</td>\n",
       "      <td>-0.032272</td>\n",
       "      <td>0.082031</td>\n",
       "      <td>0.338517</td>\n",
       "      <td>1.000000</td>\n",
       "      <td>-0.010472</td>\n",
       "      <td>0.120733</td>\n",
       "      <td>NaN</td>\n",
       "      <td>-0.039769</td>\n",
       "      <td>0.041791</td>\n",
       "    </tr>\n",
       "    <tr>\n",
       "      <th>Crm Cd 2</th>\n",
       "      <td>0.013518</td>\n",
       "      <td>-0.002013</td>\n",
       "      <td>-0.046877</td>\n",
       "      <td>-0.047327</td>\n",
       "      <td>0.039612</td>\n",
       "      <td>-0.031566</td>\n",
       "      <td>-0.036433</td>\n",
       "      <td>0.007235</td>\n",
       "      <td>-0.116993</td>\n",
       "      <td>-0.010472</td>\n",
       "      <td>1.000000</td>\n",
       "      <td>0.281183</td>\n",
       "      <td>NaN</td>\n",
       "      <td>-0.018409</td>\n",
       "      <td>0.017981</td>\n",
       "    </tr>\n",
       "    <tr>\n",
       "      <th>Crm Cd 3</th>\n",
       "      <td>-0.054127</td>\n",
       "      <td>0.021429</td>\n",
       "      <td>-0.011847</td>\n",
       "      <td>-0.010730</td>\n",
       "      <td>-0.069057</td>\n",
       "      <td>0.056596</td>\n",
       "      <td>-0.069802</td>\n",
       "      <td>0.037662</td>\n",
       "      <td>-0.028806</td>\n",
       "      <td>0.120733</td>\n",
       "      <td>0.281183</td>\n",
       "      <td>1.000000</td>\n",
       "      <td>NaN</td>\n",
       "      <td>-0.026054</td>\n",
       "      <td>0.057326</td>\n",
       "    </tr>\n",
       "    <tr>\n",
       "      <th>Crm Cd 4</th>\n",
       "      <td>NaN</td>\n",
       "      <td>NaN</td>\n",
       "      <td>NaN</td>\n",
       "      <td>NaN</td>\n",
       "      <td>NaN</td>\n",
       "      <td>NaN</td>\n",
       "      <td>NaN</td>\n",
       "      <td>NaN</td>\n",
       "      <td>NaN</td>\n",
       "      <td>NaN</td>\n",
       "      <td>NaN</td>\n",
       "      <td>NaN</td>\n",
       "      <td>NaN</td>\n",
       "      <td>NaN</td>\n",
       "      <td>NaN</td>\n",
       "    </tr>\n",
       "    <tr>\n",
       "      <th>LAT</th>\n",
       "      <td>0.042019</td>\n",
       "      <td>0.002944</td>\n",
       "      <td>0.020116</td>\n",
       "      <td>0.020134</td>\n",
       "      <td>-0.042725</td>\n",
       "      <td>-0.039502</td>\n",
       "      <td>0.007631</td>\n",
       "      <td>-0.005044</td>\n",
       "      <td>-0.017883</td>\n",
       "      <td>-0.039769</td>\n",
       "      <td>-0.018409</td>\n",
       "      <td>-0.026054</td>\n",
       "      <td>NaN</td>\n",
       "      <td>1.000000</td>\n",
       "      <td>-0.998807</td>\n",
       "    </tr>\n",
       "    <tr>\n",
       "      <th>LON</th>\n",
       "      <td>-0.041063</td>\n",
       "      <td>-0.003075</td>\n",
       "      <td>-0.015677</td>\n",
       "      <td>-0.015735</td>\n",
       "      <td>0.044558</td>\n",
       "      <td>0.041528</td>\n",
       "      <td>-0.006857</td>\n",
       "      <td>0.005909</td>\n",
       "      <td>0.020564</td>\n",
       "      <td>0.041791</td>\n",
       "      <td>0.017981</td>\n",
       "      <td>0.057326</td>\n",
       "      <td>NaN</td>\n",
       "      <td>-0.998807</td>\n",
       "      <td>1.000000</td>\n",
       "    </tr>\n",
       "  </tbody>\n",
       "</table>\n",
       "</div>"
      ],
      "text/plain": [
       "                   DR_NO  TIME OCC      AREA  Rpt Dist No  Part 1-2    Crm Cd  \\\n",
       "DR_NO           1.000000 -0.005225  0.063594     0.064139  0.011627  0.011049   \n",
       "TIME OCC       -0.005225  1.000000  0.016837     0.016929  0.020045  0.018279   \n",
       "AREA            0.063594  0.016837  1.000000     0.999195 -0.015521 -0.019574   \n",
       "Rpt Dist No     0.064139  0.016929  0.999195     1.000000 -0.015376 -0.019575   \n",
       "Part 1-2        0.011627  0.020045 -0.015521    -0.015376  1.000000  0.811966   \n",
       "Crm Cd          0.011049  0.018279 -0.019574    -0.019575  0.811966  1.000000   \n",
       "Vict Age       -0.003657 -0.029279 -0.042716    -0.042679 -0.040393 -0.033501   \n",
       "Premis Cd       0.029302  0.002456 -0.022195    -0.022128  0.090889  0.081491   \n",
       "Weapon Used Cd -0.004196  0.003121 -0.057376    -0.057118  0.439597  0.337796   \n",
       "Crm Cd 1        0.011083  0.018385 -0.019971    -0.019974  0.813324  0.998536   \n",
       "Crm Cd 2        0.013518 -0.002013 -0.046877    -0.047327  0.039612 -0.031566   \n",
       "Crm Cd 3       -0.054127  0.021429 -0.011847    -0.010730 -0.069057  0.056596   \n",
       "Crm Cd 4             NaN       NaN       NaN          NaN       NaN       NaN   \n",
       "LAT             0.042019  0.002944  0.020116     0.020134 -0.042725 -0.039502   \n",
       "LON            -0.041063 -0.003075 -0.015677    -0.015735  0.044558  0.041528   \n",
       "\n",
       "                Vict Age  Premis Cd  Weapon Used Cd  Crm Cd 1  Crm Cd 2  \\\n",
       "DR_NO          -0.003657   0.029302       -0.004196  0.011083  0.013518   \n",
       "TIME OCC       -0.029279   0.002456        0.003121  0.018385 -0.002013   \n",
       "AREA           -0.042716  -0.022195       -0.057376 -0.019971 -0.046877   \n",
       "Rpt Dist No    -0.042679  -0.022128       -0.057118 -0.019974 -0.047327   \n",
       "Part 1-2       -0.040393   0.090889        0.439597  0.813324  0.039612   \n",
       "Crm Cd         -0.033501   0.081491        0.337796  0.998536 -0.031566   \n",
       "Vict Age        1.000000   0.018495        0.108694 -0.032272 -0.036433   \n",
       "Premis Cd       0.018495   1.000000        0.112730  0.082031  0.007235   \n",
       "Weapon Used Cd  0.108694   0.112730        1.000000  0.338517 -0.116993   \n",
       "Crm Cd 1       -0.032272   0.082031        0.338517  1.000000 -0.010472   \n",
       "Crm Cd 2       -0.036433   0.007235       -0.116993 -0.010472  1.000000   \n",
       "Crm Cd 3       -0.069802   0.037662       -0.028806  0.120733  0.281183   \n",
       "Crm Cd 4             NaN        NaN             NaN       NaN       NaN   \n",
       "LAT             0.007631  -0.005044       -0.017883 -0.039769 -0.018409   \n",
       "LON            -0.006857   0.005909        0.020564  0.041791  0.017981   \n",
       "\n",
       "                Crm Cd 3  Crm Cd 4       LAT       LON  \n",
       "DR_NO          -0.054127       NaN  0.042019 -0.041063  \n",
       "TIME OCC        0.021429       NaN  0.002944 -0.003075  \n",
       "AREA           -0.011847       NaN  0.020116 -0.015677  \n",
       "Rpt Dist No    -0.010730       NaN  0.020134 -0.015735  \n",
       "Part 1-2       -0.069057       NaN -0.042725  0.044558  \n",
       "Crm Cd          0.056596       NaN -0.039502  0.041528  \n",
       "Vict Age       -0.069802       NaN  0.007631 -0.006857  \n",
       "Premis Cd       0.037662       NaN -0.005044  0.005909  \n",
       "Weapon Used Cd -0.028806       NaN -0.017883  0.020564  \n",
       "Crm Cd 1        0.120733       NaN -0.039769  0.041791  \n",
       "Crm Cd 2        0.281183       NaN -0.018409  0.017981  \n",
       "Crm Cd 3        1.000000       NaN -0.026054  0.057326  \n",
       "Crm Cd 4             NaN       NaN       NaN       NaN  \n",
       "LAT            -0.026054       NaN  1.000000 -0.998807  \n",
       "LON             0.057326       NaN -0.998807  1.000000  "
      ]
     },
     "execution_count": 44,
     "metadata": {},
     "output_type": "execute_result"
    }
   ],
   "source": [
    "#creating a correlation matrix between all the numerical variables\n",
    "numerical_cols=df.select_dtypes(include=['int64','float64'])\n",
    "corr_matrix=numerical_cols.corr()\n",
    "corr_matrix"
   ]
  },
  {
   "cell_type": "code",
   "execution_count": 46,
   "id": "85be2539-dfcc-40a0-9257-f9dbf2331804",
   "metadata": {},
   "outputs": [
    {
     "name": "stdout",
     "output_type": "stream",
     "text": [
      "DATE OCC                01/01/2020 12:00:00 AM  01/01/2021 12:00:00 AM  \\\n",
      "Date Rptd                                                                \n",
      "01/01/2020 12:00:00 AM                      50                       0   \n",
      "01/01/2021 12:00:00 AM                       0                      31   \n",
      "01/01/2022 12:00:00 AM                       0                       0   \n",
      "01/01/2023 12:00:00 AM                       0                       0   \n",
      "01/01/2024 12:00:00 AM                       0                       0   \n",
      "...                                        ...                     ...   \n",
      "12/30/2023 12:00:00 AM                       0                       0   \n",
      "12/31/2020 12:00:00 AM                       0                       0   \n",
      "12/31/2021 12:00:00 AM                       0                       0   \n",
      "12/31/2022 12:00:00 AM                       0                       0   \n",
      "12/31/2023 12:00:00 AM                       0                       0   \n",
      "\n",
      "DATE OCC                01/01/2022 12:00:00 AM  01/01/2023 12:00:00 AM  \\\n",
      "Date Rptd                                                                \n",
      "01/01/2020 12:00:00 AM                       0                       0   \n",
      "01/01/2021 12:00:00 AM                       0                       0   \n",
      "01/01/2022 12:00:00 AM                      26                       0   \n",
      "01/01/2023 12:00:00 AM                       0                      45   \n",
      "01/01/2024 12:00:00 AM                       0                       0   \n",
      "...                                        ...                     ...   \n",
      "12/30/2023 12:00:00 AM                       0                       0   \n",
      "12/31/2020 12:00:00 AM                       0                       0   \n",
      "12/31/2021 12:00:00 AM                       0                       0   \n",
      "12/31/2022 12:00:00 AM                       0                       0   \n",
      "12/31/2023 12:00:00 AM                       0                       0   \n",
      "\n",
      "DATE OCC                01/01/2024 12:00:00 AM  01/02/2020 12:00:00 AM  \\\n",
      "Date Rptd                                                                \n",
      "01/01/2020 12:00:00 AM                       0                       0   \n",
      "01/01/2021 12:00:00 AM                       0                       0   \n",
      "01/01/2022 12:00:00 AM                       0                       0   \n",
      "01/01/2023 12:00:00 AM                       0                       0   \n",
      "01/01/2024 12:00:00 AM                      32                       0   \n",
      "...                                        ...                     ...   \n",
      "12/30/2023 12:00:00 AM                       0                       0   \n",
      "12/31/2020 12:00:00 AM                       0                       0   \n",
      "12/31/2021 12:00:00 AM                       0                       0   \n",
      "12/31/2022 12:00:00 AM                       0                       0   \n",
      "12/31/2023 12:00:00 AM                       0                       0   \n",
      "\n",
      "DATE OCC                01/02/2021 12:00:00 AM  01/02/2022 12:00:00 AM  \\\n",
      "Date Rptd                                                                \n",
      "01/01/2020 12:00:00 AM                       0                       0   \n",
      "01/01/2021 12:00:00 AM                       0                       0   \n",
      "01/01/2022 12:00:00 AM                       0                       0   \n",
      "01/01/2023 12:00:00 AM                       0                       0   \n",
      "01/01/2024 12:00:00 AM                       0                       0   \n",
      "...                                        ...                     ...   \n",
      "12/30/2023 12:00:00 AM                       0                       0   \n",
      "12/31/2020 12:00:00 AM                       0                       0   \n",
      "12/31/2021 12:00:00 AM                       0                       0   \n",
      "12/31/2022 12:00:00 AM                       0                       0   \n",
      "12/31/2023 12:00:00 AM                       0                       0   \n",
      "\n",
      "DATE OCC                01/02/2023 12:00:00 AM  01/02/2024 12:00:00 AM  ...  \\\n",
      "Date Rptd                                                               ...   \n",
      "01/01/2020 12:00:00 AM                       0                       0  ...   \n",
      "01/01/2021 12:00:00 AM                       0                       0  ...   \n",
      "01/01/2022 12:00:00 AM                       0                       0  ...   \n",
      "01/01/2023 12:00:00 AM                       0                       0  ...   \n",
      "01/01/2024 12:00:00 AM                       0                       0  ...   \n",
      "...                                        ...                     ...  ...   \n",
      "12/30/2023 12:00:00 AM                       0                       0  ...   \n",
      "12/31/2020 12:00:00 AM                       0                       0  ...   \n",
      "12/31/2021 12:00:00 AM                       0                       0  ...   \n",
      "12/31/2022 12:00:00 AM                       0                       0  ...   \n",
      "12/31/2023 12:00:00 AM                       0                       0  ...   \n",
      "\n",
      "DATE OCC                12/29/2022 12:00:00 AM  12/29/2023 12:00:00 AM  \\\n",
      "Date Rptd                                                                \n",
      "01/01/2020 12:00:00 AM                       0                       0   \n",
      "01/01/2021 12:00:00 AM                       0                       0   \n",
      "01/01/2022 12:00:00 AM                       0                       0   \n",
      "01/01/2023 12:00:00 AM                       0                       0   \n",
      "01/01/2024 12:00:00 AM                       0                       0   \n",
      "...                                        ...                     ...   \n",
      "12/30/2023 12:00:00 AM                       0                       3   \n",
      "12/31/2020 12:00:00 AM                       0                       0   \n",
      "12/31/2021 12:00:00 AM                       0                       0   \n",
      "12/31/2022 12:00:00 AM                       2                       0   \n",
      "12/31/2023 12:00:00 AM                       0                       0   \n",
      "\n",
      "DATE OCC                12/30/2020 12:00:00 AM  12/30/2021 12:00:00 AM  \\\n",
      "Date Rptd                                                                \n",
      "01/01/2020 12:00:00 AM                       0                       0   \n",
      "01/01/2021 12:00:00 AM                       2                       0   \n",
      "01/01/2022 12:00:00 AM                       0                       0   \n",
      "01/01/2023 12:00:00 AM                       0                       0   \n",
      "01/01/2024 12:00:00 AM                       0                       0   \n",
      "...                                        ...                     ...   \n",
      "12/30/2023 12:00:00 AM                       0                       0   \n",
      "12/31/2020 12:00:00 AM                      10                       0   \n",
      "12/31/2021 12:00:00 AM                       0                       5   \n",
      "12/31/2022 12:00:00 AM                       0                       0   \n",
      "12/31/2023 12:00:00 AM                       0                       0   \n",
      "\n",
      "DATE OCC                12/30/2022 12:00:00 AM  12/30/2023 12:00:00 AM  \\\n",
      "Date Rptd                                                                \n",
      "01/01/2020 12:00:00 AM                       0                       0   \n",
      "01/01/2021 12:00:00 AM                       0                       0   \n",
      "01/01/2022 12:00:00 AM                       0                       0   \n",
      "01/01/2023 12:00:00 AM                       0                       0   \n",
      "01/01/2024 12:00:00 AM                       0                       1   \n",
      "...                                        ...                     ...   \n",
      "12/30/2023 12:00:00 AM                       0                      30   \n",
      "12/31/2020 12:00:00 AM                       0                       0   \n",
      "12/31/2021 12:00:00 AM                       0                       0   \n",
      "12/31/2022 12:00:00 AM                      14                       0   \n",
      "12/31/2023 12:00:00 AM                       0                       0   \n",
      "\n",
      "DATE OCC                12/31/2020 12:00:00 AM  12/31/2021 12:00:00 AM  \\\n",
      "Date Rptd                                                                \n",
      "01/01/2020 12:00:00 AM                       0                       0   \n",
      "01/01/2021 12:00:00 AM                       4                       0   \n",
      "01/01/2022 12:00:00 AM                       0                       7   \n",
      "01/01/2023 12:00:00 AM                       0                       0   \n",
      "01/01/2024 12:00:00 AM                       0                       0   \n",
      "...                                        ...                     ...   \n",
      "12/30/2023 12:00:00 AM                       0                       0   \n",
      "12/31/2020 12:00:00 AM                      39                       0   \n",
      "12/31/2021 12:00:00 AM                       0                      34   \n",
      "12/31/2022 12:00:00 AM                       0                       0   \n",
      "12/31/2023 12:00:00 AM                       0                       0   \n",
      "\n",
      "DATE OCC                12/31/2022 12:00:00 AM  12/31/2023 12:00:00 AM  \n",
      "Date Rptd                                                               \n",
      "01/01/2020 12:00:00 AM                       0                       0  \n",
      "01/01/2021 12:00:00 AM                       0                       0  \n",
      "01/01/2022 12:00:00 AM                       0                       0  \n",
      "01/01/2023 12:00:00 AM                       3                       0  \n",
      "01/01/2024 12:00:00 AM                       0                       7  \n",
      "...                                        ...                     ...  \n",
      "12/30/2023 12:00:00 AM                       0                       0  \n",
      "12/31/2020 12:00:00 AM                       0                       0  \n",
      "12/31/2021 12:00:00 AM                       0                       0  \n",
      "12/31/2022 12:00:00 AM                      36                       0  \n",
      "12/31/2023 12:00:00 AM                       0                      40  \n",
      "\n",
      "[1632 rows x 1629 columns]\n"
     ]
    }
   ],
   "source": [
    "#plotting a cross tabulation table\n",
    "cross_tab=pd.crosstab(df['Date Rptd'],df['DATE OCC'])\n",
    "print(cross_tab)"
   ]
  },
  {
   "cell_type": "markdown",
   "id": "92f9902e-cf27-42e4-b529-347ed8551c38",
   "metadata": {},
   "source": [
    "We can also find the pearson correlation coefficient for more \n",
    "analysis of correlation between two numerical variables."
   ]
  },
  {
   "cell_type": "code",
   "execution_count": 47,
   "id": "b59f26f1-7746-467e-b472-d50d4a33c359",
   "metadata": {},
   "outputs": [],
   "source": [
    "from scipy import stats"
   ]
  },
  {
   "cell_type": "code",
   "execution_count": 50,
   "id": "af5f37c8-6dd6-4b1e-af17-a29dec914ff7",
   "metadata": {},
   "outputs": [
    {
     "name": "stdout",
     "output_type": "stream",
     "text": [
      "The pearson Correlation coefficient is  0.06359350979458192  with a P value of  3.756729958427244e-68\n"
     ]
    }
   ],
   "source": [
    "pearson_coef,p_value=stats.pearsonr(df['DR_NO'],df['AREA'])\n",
    "print(\"The pearson Correlation coefficient is \",pearson_coef,\" with a P value of \",p_value)"
   ]
  },
  {
   "cell_type": "code",
   "execution_count": 55,
   "id": "04b0f83c-0bf3-440f-9c74-81b2dd019cc5",
   "metadata": {},
   "outputs": [
    {
     "name": "stdout",
     "output_type": "stream",
     "text": [
      "The pearson Correlation coefficient is  -0.032271401046530535  with a P value of  9.067038794834572e-19\n"
     ]
    }
   ],
   "source": [
    "pearson_coef,p_value=stats.pearsonr(df['Vict Age'],df['Crm Cd 1'])\n",
    "print(\"The pearson Correlation coefficient is \",pearson_coef,\" with a P value of \",p_value)"
   ]
  },
  {
   "cell_type": "markdown",
   "id": "366dd1a2-f0ea-4eec-828c-8afe2f0aa509",
   "metadata": {},
   "source": [
    "Conclusion:\n",
    "The data set was first cleaned and then all the columns were \n",
    "analysed agains each other and individually. The dependence of different variables are \n",
    "checked and clearly stated."
   ]
  },
  {
   "cell_type": "code",
   "execution_count": null,
   "id": "9398a765-6dde-4b07-87ad-4d2c0dd5b6c3",
   "metadata": {},
   "outputs": [],
   "source": []
  }
 ],
 "metadata": {
  "kernelspec": {
   "display_name": "Python 3 (ipykernel)",
   "language": "python",
   "name": "python3"
  },
  "language_info": {
   "codemirror_mode": {
    "name": "ipython",
    "version": 3
   },
   "file_extension": ".py",
   "mimetype": "text/x-python",
   "name": "python",
   "nbconvert_exporter": "python",
   "pygments_lexer": "ipython3",
   "version": "3.12.4"
  }
 },
 "nbformat": 4,
 "nbformat_minor": 5
}
